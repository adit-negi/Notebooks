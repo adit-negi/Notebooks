{
  "nbformat": 4,
  "nbformat_minor": 0,
  "metadata": {
    "colab": {
      "name": "task.ipynb",
      "provenance": [],
      "collapsed_sections": [
        "j2cjWqzYE3Aq",
        "-ML5O3boFi6V",
        "ZohcH5FngW3O"
      ]
    },
    "kernelspec": {
      "name": "python3",
      "display_name": "Python 3"
    }
  },
  "cells": [
    {
      "cell_type": "markdown",
      "metadata": {
        "id": "a6Vck8XQClR3",
        "colab_type": "text"
      },
      "source": [
        "Importing the libraries"
      ]
    },
    {
      "cell_type": "code",
      "metadata": {
        "id": "ysRHjmWGCZ4R",
        "colab_type": "code",
        "colab": {}
      },
      "source": [
        "import pandas as pd\n",
        "import numpy as np"
      ],
      "execution_count": null,
      "outputs": []
    },
    {
      "cell_type": "markdown",
      "metadata": {
        "id": "vhfYuRWDCtAd",
        "colab_type": "text"
      },
      "source": [
        "Logic for function to check if dataframe coloumn contains date or not\n"
      ]
    },
    {
      "cell_type": "code",
      "metadata": {
        "id": "2xtjyqg-JERp",
        "colab_type": "code",
        "colab": {
          "base_uri": "https://localhost:8080/",
          "height": 34
        },
        "outputId": "4326932e-68fc-48fc-c603-348b1c4a0e54"
      },
      "source": [
        " dates = pd.date_range('20130101', periods=6)\n",
        " df = pd.DataFrame(np.random.randn(6, 4), columns=list('ABCD'))\n",
        "rowIndex = df.index[3]\n",
        "rowIndex"
      ],
      "execution_count": null,
      "outputs": [
        {
          "output_type": "execute_result",
          "data": {
            "text/plain": [
              "3"
            ]
          },
          "metadata": {
            "tags": []
          },
          "execution_count": 3
        }
      ]
    },
    {
      "cell_type": "code",
      "metadata": {
        "id": "jxBOwXuNjs88",
        "colab_type": "code",
        "colab": {
          "base_uri": "https://localhost:8080/",
          "height": 119
        },
        "outputId": "66677673-adff-40ef-ea15-34442ca99b13"
      },
      "source": [
        "col_one_list = df.iloc[:,1].values.tolist() #coverting to list just checking something\n",
        "col_one_list"
      ],
      "execution_count": null,
      "outputs": [
        {
          "output_type": "execute_result",
          "data": {
            "text/plain": [
              "[-0.6213726566223546,\n",
              " -1.0466555614819182,\n",
              " 0.7834799521768309,\n",
              " -0.23579212861147522,\n",
              " -0.26090125703574396,\n",
              " 0.1755380771515636]"
            ]
          },
          "metadata": {
            "tags": []
          },
          "execution_count": 4
        }
      ]
    },
    {
      "cell_type": "code",
      "metadata": {
        "id": "vSWxWTeOo_KB",
        "colab_type": "code",
        "colab": {}
      },
      "source": [
        "import random"
      ],
      "execution_count": null,
      "outputs": []
    },
    {
      "cell_type": "markdown",
      "metadata": {
        "id": "hhxd8MLgt72X",
        "colab_type": "text"
      },
      "source": [
        "The logic I'm trying to implement here is that we take 3 random values with the col of the dataframe and check for each of them if the date is in one of the given format that I hypothesised, now the reasoning behind taking 3 cols was that it would save time, realistically we could do a lot more but if 3 random values are not the date value, Statistically and the probablity is that a majority of the values are not the date value hence we would probably not use that feature and drop it anyways"
      ]
    },
    {
      "cell_type": "markdown",
      "metadata": {
        "id": "AYOs88I0BrPH",
        "colab_type": "text"
      },
      "source": [
        "#**TASK** **1**"
      ]
    },
    {
      "cell_type": "code",
      "metadata": {
        "id": "goaxbOWTCikO",
        "colab_type": "code",
        "colab": {}
      },
      "source": [
        "def IsDateInCol(df):\n",
        "  number_of_cols = df.shape[1]\n",
        "  number_of_rows = df.shape[0]\n",
        "  cols_with_date=[]\n",
        "  position_of_day ={}  \n",
        "  ''' initializing a dictionary to know at what index \n",
        "    does the day start because that can be different according to different formats of date'''\n",
        "  for i in range(number_of_cols):\n",
        "    flag = 0   # Gets raised if we gate a positive result for date\n",
        "    col_list=df.iloc[:,i].values.tolist()\n",
        "    random_number1 = random.randint(0,len(col_list)-1)\n",
        "    random_number2 = random.randint(0,len(col_list)-1)\n",
        "    random_number3 = random.randint(0,len(col_list)-1)\n",
        "    list_of_randoms = [random_number1, random_number2, random_number3]\n",
        "    if df.iloc[:,i].dtype == \"datetime64[ns]\":\n",
        "      flag=1\n",
        "      position_of_day[i] = 10 #random value which is gonna indicate that I have to convert to str first\n",
        "    for j in list_of_randoms:\n",
        "      if isinstance(col_list[j], str):\n",
        "        #2013-01-01 few sample date formats we should check for\n",
        "        #01-01-2013\n",
        "        #2013/01/01\n",
        "        #01/01/2013\n",
        "        #01/01/13\n",
        "        #01-01-13\n",
        "        #1st January 2013??????\n",
        "        # check for case 1\n",
        "        current_element =col_list[j]\n",
        "        if len(col_list[j])==10:\n",
        "          if (current_element[4]==\"-\" or current_element[4]==\"/\") and (current_element[7]==\"-\" or current_element[7]==\"/\"):\n",
        "            try:\n",
        "              year = int(current_element[0:4])\n",
        "              if isinstance(year,int):\n",
        "                flag=1\n",
        "                position_of_day[i] = 5\n",
        "            except:\n",
        "              pass\n",
        "        if len(col_list[j])==10:\n",
        "          if (current_element[2]==\"-\" or current_element[2]==\"/\") and (current_element[7]==\"-\" or current_element[5] == \"/\"):\n",
        "            try:\n",
        "              year = int(current_element[6:10])\n",
        "              if isinstance(year,int):\n",
        "                flag=1\n",
        "                position_of_day[i] = 0 \n",
        "            except:\n",
        "              pass\n",
        "        if len(current_element)==8:\n",
        "          if (current_element[2]==\"-\" or current_element[2]==\"/\") and (current_element[5]==\"-\" or current_element[5] == \"/\"):\n",
        "            try:\n",
        "              year = int(current_element[0:2])\n",
        "              month = int(current_element[3:5])\n",
        "              if isinstance(year,int) and isinstance(month, int):\n",
        "                flag=1\n",
        "                position_of_day[i] = 0\n",
        "            except:\n",
        "              pass\n",
        "    #if flag== 1:\n",
        "      #cols_with_date.append(i)\n",
        "  return position_of_day\n",
        "\n",
        "        \n",
        "\n"
      ],
      "execution_count": null,
      "outputs": []
    },
    {
      "cell_type": "markdown",
      "metadata": {
        "id": "cizwkhwFBPgj",
        "colab_type": "text"
      },
      "source": [
        "This function should be robust enough to go through most dataframes unless the number of dates in that dataframe are in minority, which like I said before would more than likely cause us to drop the coloumn during the EDA process itself"
      ]
    },
    {
      "cell_type": "markdown",
      "metadata": {
        "id": "j2cjWqzYE3Aq",
        "colab_type": "text"
      },
      "source": [
        "#Testing"
      ]
    },
    {
      "cell_type": "markdown",
      "metadata": {
        "id": "w8v2h64DCPxK",
        "colab_type": "text"
      },
      "source": [
        "An AI approach could also be applied to this where we can do text analysis to check for months like January 24th and even check for those values. Although I'm not sure if that would be better as that would be computationally very expensive"
      ]
    },
    {
      "cell_type": "code",
      "metadata": {
        "id": "QWljT4YV661Y",
        "colab_type": "code",
        "colab": {
          "base_uri": "https://localhost:8080/",
          "height": 173
        },
        "outputId": "ffb34ff7-00a9-45c8-c41d-94fd9f56c370"
      },
      "source": [
        "df2 = pd.DataFrame({'A': 1.,\n",
        "                       'B': pd.Timestamp('20130102'),\n",
        "                       'C': pd.Series(1, index=list(range(4)), dtype='float32'),\n",
        "                        'D': np.array([3] * 4, dtype='int32'),\n",
        "                        'E': pd.Categorical([\"sw17-04-03\", \"as17-23-12\", \"2017-09-01\", \"2017-09-12\"]),\n",
        "                     'F': 'foo'})\n",
        "df2"
      ],
      "execution_count": null,
      "outputs": [
        {
          "output_type": "execute_result",
          "data": {
            "text/html": [
              "<div>\n",
              "<style scoped>\n",
              "    .dataframe tbody tr th:only-of-type {\n",
              "        vertical-align: middle;\n",
              "    }\n",
              "\n",
              "    .dataframe tbody tr th {\n",
              "        vertical-align: top;\n",
              "    }\n",
              "\n",
              "    .dataframe thead th {\n",
              "        text-align: right;\n",
              "    }\n",
              "</style>\n",
              "<table border=\"1\" class=\"dataframe\">\n",
              "  <thead>\n",
              "    <tr style=\"text-align: right;\">\n",
              "      <th></th>\n",
              "      <th>A</th>\n",
              "      <th>B</th>\n",
              "      <th>C</th>\n",
              "      <th>D</th>\n",
              "      <th>E</th>\n",
              "      <th>F</th>\n",
              "    </tr>\n",
              "  </thead>\n",
              "  <tbody>\n",
              "    <tr>\n",
              "      <th>0</th>\n",
              "      <td>1.0</td>\n",
              "      <td>2013-01-02</td>\n",
              "      <td>1.0</td>\n",
              "      <td>3</td>\n",
              "      <td>sw17-04-03</td>\n",
              "      <td>foo</td>\n",
              "    </tr>\n",
              "    <tr>\n",
              "      <th>1</th>\n",
              "      <td>1.0</td>\n",
              "      <td>2013-01-02</td>\n",
              "      <td>1.0</td>\n",
              "      <td>3</td>\n",
              "      <td>as17-23-12</td>\n",
              "      <td>foo</td>\n",
              "    </tr>\n",
              "    <tr>\n",
              "      <th>2</th>\n",
              "      <td>1.0</td>\n",
              "      <td>2013-01-02</td>\n",
              "      <td>1.0</td>\n",
              "      <td>3</td>\n",
              "      <td>2017-09-01</td>\n",
              "      <td>foo</td>\n",
              "    </tr>\n",
              "    <tr>\n",
              "      <th>3</th>\n",
              "      <td>1.0</td>\n",
              "      <td>2013-01-02</td>\n",
              "      <td>1.0</td>\n",
              "      <td>3</td>\n",
              "      <td>2017-09-12</td>\n",
              "      <td>foo</td>\n",
              "    </tr>\n",
              "  </tbody>\n",
              "</table>\n",
              "</div>"
            ],
            "text/plain": [
              "     A          B    C  D           E    F\n",
              "0  1.0 2013-01-02  1.0  3  sw17-04-03  foo\n",
              "1  1.0 2013-01-02  1.0  3  as17-23-12  foo\n",
              "2  1.0 2013-01-02  1.0  3  2017-09-01  foo\n",
              "3  1.0 2013-01-02  1.0  3  2017-09-12  foo"
            ]
          },
          "metadata": {
            "tags": []
          },
          "execution_count": 7
        }
      ]
    },
    {
      "cell_type": "code",
      "metadata": {
        "id": "pSaLsh6XalS-",
        "colab_type": "code",
        "colab": {
          "base_uri": "https://localhost:8080/",
          "height": 34
        },
        "outputId": "371111ea-ed66-4f0a-8ba6-e7d67f85b2eb"
      },
      "source": [
        "IsDateInCol(df2)"
      ],
      "execution_count": null,
      "outputs": [
        {
          "output_type": "execute_result",
          "data": {
            "text/plain": [
              "{1: 10, 4: 5}"
            ]
          },
          "metadata": {
            "tags": []
          },
          "execution_count": 8
        }
      ]
    },
    {
      "cell_type": "code",
      "metadata": {
        "id": "8JJ8vrEq7tzy",
        "colab_type": "code",
        "colab": {
          "base_uri": "https://localhost:8080/",
          "height": 34
        },
        "outputId": "2b2fe593-9398-4212-e2a1-8b23f4fb98da"
      },
      "source": [
        "list(IsDateInCol(df2).keys())"
      ],
      "execution_count": null,
      "outputs": [
        {
          "output_type": "execute_result",
          "data": {
            "text/plain": [
              "[1, 4]"
            ]
          },
          "metadata": {
            "tags": []
          },
          "execution_count": 9
        }
      ]
    },
    {
      "cell_type": "markdown",
      "metadata": {
        "id": "SfIpalWVE90G",
        "colab_type": "text"
      },
      "source": [
        "#**TASK** **1.2**"
      ]
    },
    {
      "cell_type": "code",
      "metadata": {
        "id": "p0XneAySeS-N",
        "colab_type": "code",
        "colab": {
          "base_uri": "https://localhost:8080/",
          "height": 34
        },
        "outputId": "2739a28d-d25f-41bb-d434-fb181e0e56dd"
      },
      "source": [
        "import itertools\n",
        "\n"
      ],
      "execution_count": null,
      "outputs": [
        {
          "output_type": "execute_result",
          "data": {
            "text/plain": [
              "2"
            ]
          },
          "metadata": {
            "tags": []
          },
          "execution_count": 10
        }
      ]
    },
    {
      "cell_type": "code",
      "metadata": {
        "id": "tpLbuCDI97kx",
        "colab_type": "code",
        "colab": {}
      },
      "source": [
        "def SubOfDateCols(df):\n",
        "  date_cols_dictionary = IsDateInCol(df)\n",
        "  list_of_cols_withDate = list(date_cols_dictionary.keys())\n",
        "  number_of_rows = df.shape[0]\n",
        "  # we need to make coloumns which will be equal number_of_cols combinations of 2\n",
        "  #nC2 combinations\n",
        "  \n",
        "  for i in range(number_of_rows):\n",
        "    list_of_days=[]\n",
        "    for j in list_of_cols_withDate:\n",
        "    #Lets get all the values of days in list format\n",
        "      index = date_cols_dictionary[j]\n",
        "      if index==10:\n",
        "        date_value = df.iloc[:,j].values[i]\n",
        "        date_str = str(date_value)\n",
        "        day = date_str[5:7]\n",
        "        try:\n",
        "          day = int(day)\n",
        "          if isinstance(day,int):\n",
        "            list_of_days.append(day)\n",
        "        except:\n",
        "          pass\n",
        "      if index == 5:\n",
        "        date_value = df.iloc[:,j].values[i]\n",
        "        date_str = str(date_value)\n",
        "        day = date_str[5:7]\n",
        "        try:\n",
        "          day = int(day)\n",
        "          if isinstance(day,int):\n",
        "            list_of_days.append(day)\n",
        "        except: \n",
        "          pass\n",
        "  \n",
        "\n",
        "      if index == 0:\n",
        "        date_value = df.iloc[:,j].values[i]\n",
        "        date_str = str(date_value)\n",
        "        day = date_str[0:2]\n",
        "        try:\n",
        "          day = int(day)\n",
        "          if isinstance(day,int):\n",
        "            list_of_days.append(day)\n",
        "        except:\n",
        "          pass\n",
        "\n",
        "    # Now we have a list of all days we need to make combinations and add them\n",
        "    # as new coloumns in the dataframe\n",
        "    combination =list(itertools.combinations(list_of_days,2))\n",
        "    for k in range(len(combination)):\n",
        "      new_col_title = \"a\" + str(k)\n",
        "      df.loc[i, new_col_title] = combination[k][0]-combination[k][1]\n",
        "  return df\n",
        "\n",
        "\n",
        "    "
      ],
      "execution_count": null,
      "outputs": []
    },
    {
      "cell_type": "markdown",
      "metadata": {
        "id": "-ML5O3boFi6V",
        "colab_type": "text"
      },
      "source": [
        "#TESTING"
      ]
    },
    {
      "cell_type": "code",
      "metadata": {
        "id": "9ZSXhDqXFbd6",
        "colab_type": "code",
        "colab": {
          "base_uri": "https://localhost:8080/",
          "height": 173
        },
        "outputId": "6385c911-63dc-489c-be8a-3772fc6632e4"
      },
      "source": [
        "df = pd.DataFrame({'A': 1.,\n",
        "                       'B': pd.Timestamp('20130102'),\n",
        "                       'C': pd.Series(1, index=list(range(4)), dtype='float32'),\n",
        "                        'D': np.array([3] * 4, dtype='int32'),\n",
        "                        'E': pd.Categorical([\"sw17-04-03\", \"as17-23-12\", \"2017-09-01\", \"2017-09-12\"]),\n",
        "                     'F': 'foo'})\n",
        "df"
      ],
      "execution_count": null,
      "outputs": [
        {
          "output_type": "execute_result",
          "data": {
            "text/html": [
              "<div>\n",
              "<style scoped>\n",
              "    .dataframe tbody tr th:only-of-type {\n",
              "        vertical-align: middle;\n",
              "    }\n",
              "\n",
              "    .dataframe tbody tr th {\n",
              "        vertical-align: top;\n",
              "    }\n",
              "\n",
              "    .dataframe thead th {\n",
              "        text-align: right;\n",
              "    }\n",
              "</style>\n",
              "<table border=\"1\" class=\"dataframe\">\n",
              "  <thead>\n",
              "    <tr style=\"text-align: right;\">\n",
              "      <th></th>\n",
              "      <th>A</th>\n",
              "      <th>B</th>\n",
              "      <th>C</th>\n",
              "      <th>D</th>\n",
              "      <th>E</th>\n",
              "      <th>F</th>\n",
              "    </tr>\n",
              "  </thead>\n",
              "  <tbody>\n",
              "    <tr>\n",
              "      <th>0</th>\n",
              "      <td>1.0</td>\n",
              "      <td>2013-01-02</td>\n",
              "      <td>1.0</td>\n",
              "      <td>3</td>\n",
              "      <td>sw17-04-03</td>\n",
              "      <td>foo</td>\n",
              "    </tr>\n",
              "    <tr>\n",
              "      <th>1</th>\n",
              "      <td>1.0</td>\n",
              "      <td>2013-01-02</td>\n",
              "      <td>1.0</td>\n",
              "      <td>3</td>\n",
              "      <td>as17-23-12</td>\n",
              "      <td>foo</td>\n",
              "    </tr>\n",
              "    <tr>\n",
              "      <th>2</th>\n",
              "      <td>1.0</td>\n",
              "      <td>2013-01-02</td>\n",
              "      <td>1.0</td>\n",
              "      <td>3</td>\n",
              "      <td>2017-09-01</td>\n",
              "      <td>foo</td>\n",
              "    </tr>\n",
              "    <tr>\n",
              "      <th>3</th>\n",
              "      <td>1.0</td>\n",
              "      <td>2013-01-02</td>\n",
              "      <td>1.0</td>\n",
              "      <td>3</td>\n",
              "      <td>2017-09-12</td>\n",
              "      <td>foo</td>\n",
              "    </tr>\n",
              "  </tbody>\n",
              "</table>\n",
              "</div>"
            ],
            "text/plain": [
              "     A          B    C  D           E    F\n",
              "0  1.0 2013-01-02  1.0  3  sw17-04-03  foo\n",
              "1  1.0 2013-01-02  1.0  3  as17-23-12  foo\n",
              "2  1.0 2013-01-02  1.0  3  2017-09-01  foo\n",
              "3  1.0 2013-01-02  1.0  3  2017-09-12  foo"
            ]
          },
          "metadata": {
            "tags": []
          },
          "execution_count": 120
        }
      ]
    },
    {
      "cell_type": "code",
      "metadata": {
        "id": "2b78h4U2Fn1o",
        "colab_type": "code",
        "colab": {
          "base_uri": "https://localhost:8080/",
          "height": 173
        },
        "outputId": "67e6015a-05ce-4eee-ccb9-51b167896cf8"
      },
      "source": [
        "SubOfDateCols(df)\n"
      ],
      "execution_count": null,
      "outputs": [
        {
          "output_type": "execute_result",
          "data": {
            "text/html": [
              "<div>\n",
              "<style scoped>\n",
              "    .dataframe tbody tr th:only-of-type {\n",
              "        vertical-align: middle;\n",
              "    }\n",
              "\n",
              "    .dataframe tbody tr th {\n",
              "        vertical-align: top;\n",
              "    }\n",
              "\n",
              "    .dataframe thead th {\n",
              "        text-align: right;\n",
              "    }\n",
              "</style>\n",
              "<table border=\"1\" class=\"dataframe\">\n",
              "  <thead>\n",
              "    <tr style=\"text-align: right;\">\n",
              "      <th></th>\n",
              "      <th>A</th>\n",
              "      <th>B</th>\n",
              "      <th>C</th>\n",
              "      <th>D</th>\n",
              "      <th>E</th>\n",
              "      <th>F</th>\n",
              "      <th>a0</th>\n",
              "    </tr>\n",
              "  </thead>\n",
              "  <tbody>\n",
              "    <tr>\n",
              "      <th>0</th>\n",
              "      <td>1.0</td>\n",
              "      <td>2013-01-02</td>\n",
              "      <td>1.0</td>\n",
              "      <td>3</td>\n",
              "      <td>sw17-04-03</td>\n",
              "      <td>foo</td>\n",
              "      <td>-3.0</td>\n",
              "    </tr>\n",
              "    <tr>\n",
              "      <th>1</th>\n",
              "      <td>1.0</td>\n",
              "      <td>2013-01-02</td>\n",
              "      <td>1.0</td>\n",
              "      <td>3</td>\n",
              "      <td>as17-23-12</td>\n",
              "      <td>foo</td>\n",
              "      <td>-22.0</td>\n",
              "    </tr>\n",
              "    <tr>\n",
              "      <th>2</th>\n",
              "      <td>1.0</td>\n",
              "      <td>2013-01-02</td>\n",
              "      <td>1.0</td>\n",
              "      <td>3</td>\n",
              "      <td>2017-09-01</td>\n",
              "      <td>foo</td>\n",
              "      <td>-8.0</td>\n",
              "    </tr>\n",
              "    <tr>\n",
              "      <th>3</th>\n",
              "      <td>1.0</td>\n",
              "      <td>2013-01-02</td>\n",
              "      <td>1.0</td>\n",
              "      <td>3</td>\n",
              "      <td>2017-09-12</td>\n",
              "      <td>foo</td>\n",
              "      <td>-8.0</td>\n",
              "    </tr>\n",
              "  </tbody>\n",
              "</table>\n",
              "</div>"
            ],
            "text/plain": [
              "     A          B    C  D           E    F    a0\n",
              "0  1.0 2013-01-02  1.0  3  sw17-04-03  foo  -3.0\n",
              "1  1.0 2013-01-02  1.0  3  as17-23-12  foo -22.0\n",
              "2  1.0 2013-01-02  1.0  3  2017-09-01  foo  -8.0\n",
              "3  1.0 2013-01-02  1.0  3  2017-09-12  foo  -8.0"
            ]
          },
          "metadata": {
            "tags": []
          },
          "execution_count": 102
        }
      ]
    },
    {
      "cell_type": "code",
      "metadata": {
        "id": "zhdOj9oMFrGa",
        "colab_type": "code",
        "colab": {
          "base_uri": "https://localhost:8080/",
          "height": 34
        },
        "outputId": "8c64534b-33b6-4e88-aa12-7df0ee33c9d8"
      },
      "source": [
        "date_cols_dictionary = IsDateInCol(df)\n",
        "list_of_cols_withDate = list(date_cols_dictionary.keys())\n",
        "number_of_rows = df.shape[0]\n",
        "# we need to make coloumns which will be equal number_of_cols combinations of 2\n",
        "#nC2 combinations\n",
        "list_of_days=[]\n",
        "for i in range(number_of_rows):\n",
        "  \n",
        "  for j in list_of_cols_withDate:\n",
        "  #Lets get all the values of days in list format\n",
        "    index = date_cols_dictionary[j]\n",
        "    if index==10:\n",
        "      date_value = df.iloc[:,j].values[i]\n",
        "      date_str = str(date_value)\n",
        "      day = date_str[5:7]\n",
        "      try:\n",
        "        day = int(day)\n",
        "        if isinstance(day,int):\n",
        "          list_of_days.append(day)\n",
        "      except:\n",
        "        pass\n",
        "    if index == 5:\n",
        "      date_value = df.iloc[:,j].values[i]\n",
        "      date_str = str(date_value)\n",
        "      day = date_str[5:7]\n",
        "      try:\n",
        "        day = int(day)\n",
        "        if isinstance(day,int):\n",
        "          list_of_days.append(day)\n",
        "      except: \n",
        "        pass\n",
        "\n",
        "    if index == 0:\n",
        "      date_value = df.iloc[:,j].values[i]\n",
        "      date_str = str(date_value)\n",
        "      day = date_str[0:2]\n",
        "      try:\n",
        "        day = int(day)\n",
        "        if isinstance(day,int):\n",
        "          list_of_days.append(day)\n",
        "      except:\n",
        "        pass\n",
        "print(list_of_days)\n"
      ],
      "execution_count": null,
      "outputs": [
        {
          "output_type": "stream",
          "text": [
            "[1, 4, 1, 23, 1, 9, 1, 9]\n"
          ],
          "name": "stdout"
        }
      ]
    },
    {
      "cell_type": "markdown",
      "metadata": {
        "id": "rwLB6UnFJMF7",
        "colab_type": "text"
      },
      "source": [
        "#TASK 1.3"
      ]
    },
    {
      "cell_type": "code",
      "metadata": {
        "id": "1ruuwaMGIGob",
        "colab_type": "code",
        "colab": {}
      },
      "source": [
        "def drop_except_new(df):\n",
        "  number_of_cols_orignally = df.shape[1]\n",
        "  df = SubOfDateCols(df) #we get the new dataframe\n",
        "  for i in range(number_of_cols_orignally-1):\n",
        "    df = df.drop(df.columns[0], axis=1)\n",
        "  return df"
      ],
      "execution_count": null,
      "outputs": []
    },
    {
      "cell_type": "markdown",
      "metadata": {
        "id": "ZohcH5FngW3O",
        "colab_type": "text"
      },
      "source": [
        "#Testing"
      ]
    },
    {
      "cell_type": "code",
      "metadata": {
        "id": "jGj6H0bNgWdm",
        "colab_type": "code",
        "colab": {
          "base_uri": "https://localhost:8080/",
          "height": 173
        },
        "outputId": "b95dee37-92be-4c8f-a1ff-a809ff52189e"
      },
      "source": [
        "df = pd.DataFrame({'A': 1.,\n",
        "                       'B': pd.Timestamp('20130102'),\n",
        "                       'C': pd.Series(1, index=list(range(4)), dtype='float32'),\n",
        "                        'D': np.array([3] * 4, dtype='int32'),\n",
        "                        'E': pd.Categorical([\"sw17-04-03\", \"as17-23-12\", \"2017-09-01\", \"2017-09-12\"]),\n",
        "                     'F': 'foo'})\n",
        "df"
      ],
      "execution_count": null,
      "outputs": [
        {
          "output_type": "execute_result",
          "data": {
            "text/html": [
              "<div>\n",
              "<style scoped>\n",
              "    .dataframe tbody tr th:only-of-type {\n",
              "        vertical-align: middle;\n",
              "    }\n",
              "\n",
              "    .dataframe tbody tr th {\n",
              "        vertical-align: top;\n",
              "    }\n",
              "\n",
              "    .dataframe thead th {\n",
              "        text-align: right;\n",
              "    }\n",
              "</style>\n",
              "<table border=\"1\" class=\"dataframe\">\n",
              "  <thead>\n",
              "    <tr style=\"text-align: right;\">\n",
              "      <th></th>\n",
              "      <th>A</th>\n",
              "      <th>B</th>\n",
              "      <th>C</th>\n",
              "      <th>D</th>\n",
              "      <th>E</th>\n",
              "      <th>F</th>\n",
              "    </tr>\n",
              "  </thead>\n",
              "  <tbody>\n",
              "    <tr>\n",
              "      <th>0</th>\n",
              "      <td>1.0</td>\n",
              "      <td>2013-01-02</td>\n",
              "      <td>1.0</td>\n",
              "      <td>3</td>\n",
              "      <td>sw17-04-03</td>\n",
              "      <td>foo</td>\n",
              "    </tr>\n",
              "    <tr>\n",
              "      <th>1</th>\n",
              "      <td>1.0</td>\n",
              "      <td>2013-01-02</td>\n",
              "      <td>1.0</td>\n",
              "      <td>3</td>\n",
              "      <td>as17-23-12</td>\n",
              "      <td>foo</td>\n",
              "    </tr>\n",
              "    <tr>\n",
              "      <th>2</th>\n",
              "      <td>1.0</td>\n",
              "      <td>2013-01-02</td>\n",
              "      <td>1.0</td>\n",
              "      <td>3</td>\n",
              "      <td>2017-09-01</td>\n",
              "      <td>foo</td>\n",
              "    </tr>\n",
              "    <tr>\n",
              "      <th>3</th>\n",
              "      <td>1.0</td>\n",
              "      <td>2013-01-02</td>\n",
              "      <td>1.0</td>\n",
              "      <td>3</td>\n",
              "      <td>2017-09-12</td>\n",
              "      <td>foo</td>\n",
              "    </tr>\n",
              "  </tbody>\n",
              "</table>\n",
              "</div>"
            ],
            "text/plain": [
              "     A          B    C  D           E    F\n",
              "0  1.0 2013-01-02  1.0  3  sw17-04-03  foo\n",
              "1  1.0 2013-01-02  1.0  3  as17-23-12  foo\n",
              "2  1.0 2013-01-02  1.0  3  2017-09-01  foo\n",
              "3  1.0 2013-01-02  1.0  3  2017-09-12  foo"
            ]
          },
          "metadata": {
            "tags": []
          },
          "execution_count": 128
        }
      ]
    },
    {
      "cell_type": "code",
      "metadata": {
        "id": "UNOakQwCgfJG",
        "colab_type": "code",
        "colab": {
          "base_uri": "https://localhost:8080/",
          "height": 173
        },
        "outputId": "11ad23dd-c54c-4c62-dfa0-22c3a8932f49"
      },
      "source": [
        "drop_except_new(df)"
      ],
      "execution_count": null,
      "outputs": [
        {
          "output_type": "execute_result",
          "data": {
            "text/html": [
              "<div>\n",
              "<style scoped>\n",
              "    .dataframe tbody tr th:only-of-type {\n",
              "        vertical-align: middle;\n",
              "    }\n",
              "\n",
              "    .dataframe tbody tr th {\n",
              "        vertical-align: top;\n",
              "    }\n",
              "\n",
              "    .dataframe thead th {\n",
              "        text-align: right;\n",
              "    }\n",
              "</style>\n",
              "<table border=\"1\" class=\"dataframe\">\n",
              "  <thead>\n",
              "    <tr style=\"text-align: right;\">\n",
              "      <th></th>\n",
              "      <th>a0</th>\n",
              "    </tr>\n",
              "  </thead>\n",
              "  <tbody>\n",
              "    <tr>\n",
              "      <th>0</th>\n",
              "      <td>-3.0</td>\n",
              "    </tr>\n",
              "    <tr>\n",
              "      <th>1</th>\n",
              "      <td>-22.0</td>\n",
              "    </tr>\n",
              "    <tr>\n",
              "      <th>2</th>\n",
              "      <td>-8.0</td>\n",
              "    </tr>\n",
              "    <tr>\n",
              "      <th>3</th>\n",
              "      <td>-8.0</td>\n",
              "    </tr>\n",
              "  </tbody>\n",
              "</table>\n",
              "</div>"
            ],
            "text/plain": [
              "     a0\n",
              "0  -3.0\n",
              "1 -22.0\n",
              "2  -8.0\n",
              "3  -8.0"
            ]
          },
          "metadata": {
            "tags": []
          },
          "execution_count": 136
        }
      ]
    },
    {
      "cell_type": "markdown",
      "metadata": {
        "id": "RZak1Ruxa90u",
        "colab_type": "text"
      },
      "source": [
        "#Pearson Correlation"
      ]
    },
    {
      "cell_type": "code",
      "metadata": {
        "id": "OEV9Sik8bCs8",
        "colab_type": "code",
        "colab": {}
      },
      "source": [
        "import scipy\n",
        "from scipy.stats.stats import pearsonr"
      ],
      "execution_count": null,
      "outputs": []
    },
    {
      "cell_type": "code",
      "metadata": {
        "id": "hzszLcaAeZuA",
        "colab_type": "code",
        "colab": {}
      },
      "source": [
        "pearson_drop(df):\n",
        "  columns = df.shape[1]\n",
        "  list_of_cols_to_drop = []\n",
        "  for i in range(int(columns)-1):\n",
        "    for j in range(i, int(columns)-1) \n",
        "      if pearsonr(df.columns[j],df.columns[j+1])>0.85:\n",
        "        list_of_cols_to_drop.append(j+1) # get all combinations of cols\n",
        "  mylist = list(dict.fromkeys(list_of_cols_to_drop)) # remove duplicates\n",
        "  df=df.drop(df.columns[mylist], axis = 1, inplace = True) \n",
        "  return df\n",
        "\n",
        "      "
      ],
      "execution_count": null,
      "outputs": []
    },
    {
      "cell_type": "markdown",
      "metadata": {
        "id": "KwFOdkFlCotn",
        "colab_type": "text"
      },
      "source": [
        "#TASK 3"
      ]
    },
    {
      "cell_type": "markdown",
      "metadata": {
        "id": "dRehIzMzDTJz",
        "colab_type": "text"
      },
      "source": [
        "Any kind of preprocessing or as stated in the instance should be done on the training data only because we are using the test data to build the model for the future, so we should not impute the test data as if we rish overfitting the model and it is not really test data if we let our training data affect it by changing missing values etc etc."
      ]
    },
    {
      "cell_type": "markdown",
      "metadata": {
        "id": "XLHWj5E5EPXx",
        "colab_type": "text"
      },
      "source": [
        "#TASK 4"
      ]
    },
    {
      "cell_type": "markdown",
      "metadata": {
        "id": "0UQVV5KZERzp",
        "colab_type": "text"
      },
      "source": [
        "How do we speed up python code?\n"
      ]
    },
    {
      "cell_type": "markdown",
      "metadata": {
        "id": "W-TzjC_0EfFl",
        "colab_type": "text"
      },
      "source": [
        "There are quite a few ways of doing this. First and most obvious one would be-\n",
        "\n",
        "1.   Use a more efficient algorithm\n",
        "2.   Use a data structure\n",
        "\n",
        "for instance a lot of stuff can be done by brute force method going through every possible combination but can often cause time complexities of O(N^3) or more. We might want to solve the problem in linear time or nLog(n) time. For that a good understanding of algorithms and creative thinking is important.\n",
        "\n",
        "Other and more easier way to do it is by using a data structure for instance using an unordered hash set or map(dict or set in python) which have more efficient look ups than standard arrays. Although I have a bad habit of using lists till I come across a problem which has to solved in a specific time limit..... \n",
        "\n"
      ]
    },
    {
      "cell_type": "code",
      "metadata": {
        "id": "YDeVSMECCsBj",
        "colab_type": "code",
        "colab": {}
      },
      "source": [
        ""
      ],
      "execution_count": null,
      "outputs": []
    }
  ]
}